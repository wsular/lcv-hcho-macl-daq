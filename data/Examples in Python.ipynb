{
 "cells": [
  {
   "cell_type": "markdown",
   "metadata": {},
   "source": [
    "# Examples in Python\n",
    "\n",
    "## Lewiston-Clarkston Valley Formaldehyde Study (2016)\n",
    "\n",
    "Requirements:\n",
    "* [pandas](http://pandas.pydata.org)\n",
    "\n",
    "### Basic setup"
   ]
  },
  {
   "cell_type": "code",
   "execution_count": 1,
   "metadata": {
    "collapsed": true
   },
   "outputs": [],
   "source": [
    "%matplotlib inline\n",
    "\n",
    "import pandas as pd"
   ]
  },
  {
   "cell_type": "code",
   "execution_count": 2,
   "metadata": {
    "collapsed": false
   },
   "outputs": [
    {
     "name": "stdout",
     "output_type": "stream",
     "text": [
      ".ipynb_checkpoints\n",
      "CO_1min_20160630.csv\n",
      "CO_30min_20160630.csv\n",
      "Examples in Python.ipynb\n",
      "Lewiston_Rack160630.txt\n",
      "li840a_20160707.txt\n",
      "NONO2_1min_20160630.csv\n",
      "NONO2_30min_20160630.csv\n",
      "O3_1min_20160630.csv\n",
      "O3_30min_20160630.csv\n",
      "readme.md\n",
      "SO2_1min_20160630.csv\n",
      "SO2_30min_20160630.csv\n"
     ]
    }
   ],
   "source": [
    "%ls /b\n",
    "# optional `/b` gives prettier output on Windows"
   ]
  },
  {
   "cell_type": "markdown",
   "metadata": {},
   "source": [
    "### Importing\n",
    "\n",
    "#### Rack Files (DAQFactory)\n",
    "\n",
    "<http://pandas.pydata.org/pandas-docs/stable/io.html#io-read-csv-table>"
   ]
  },
  {
   "cell_type": "code",
   "execution_count": 3,
   "metadata": {
    "collapsed": false
   },
   "outputs": [
    {
     "data": {
      "text/html": [
       "<div>\n",
       "<table border=\"1\" class=\"dataframe\">\n",
       "  <thead>\n",
       "    <tr style=\"text-align: right;\">\n",
       "      <th></th>\n",
       "      <th>LabjackU3_T</th>\n",
       "      <th>LI840A_CO2</th>\n",
       "      <th>LI840A_H2O</th>\n",
       "      <th>TAPI_CO</th>\n",
       "      <th>TAPI_NO</th>\n",
       "      <th>TAPI_NO2</th>\n",
       "      <th>TAPI_NOx</th>\n",
       "      <th>TAPI_O3</th>\n",
       "      <th>TAPI_SO2</th>\n",
       "      <th>TSI_flow</th>\n",
       "      <th>...</th>\n",
       "      <th>WXT_Pa</th>\n",
       "      <th>WXT_Rc</th>\n",
       "      <th>WXT_Rd</th>\n",
       "      <th>WXT_Ri</th>\n",
       "      <th>WXT_Rp</th>\n",
       "      <th>WXT_Sm</th>\n",
       "      <th>WXT_Sn</th>\n",
       "      <th>WXT_Sx</th>\n",
       "      <th>WXT_Ta</th>\n",
       "      <th>WXT_Ua</th>\n",
       "    </tr>\n",
       "    <tr>\n",
       "      <th>TheTime</th>\n",
       "      <th></th>\n",
       "      <th></th>\n",
       "      <th></th>\n",
       "      <th></th>\n",
       "      <th></th>\n",
       "      <th></th>\n",
       "      <th></th>\n",
       "      <th></th>\n",
       "      <th></th>\n",
       "      <th></th>\n",
       "      <th></th>\n",
       "      <th></th>\n",
       "      <th></th>\n",
       "      <th></th>\n",
       "      <th></th>\n",
       "      <th></th>\n",
       "      <th></th>\n",
       "      <th></th>\n",
       "      <th></th>\n",
       "      <th></th>\n",
       "      <th></th>\n",
       "    </tr>\n",
       "  </thead>\n",
       "  <tbody>\n",
       "    <tr>\n",
       "      <th>2016-06-30 00:01:14</th>\n",
       "      <td>20.43913</td>\n",
       "      <td>450.8072</td>\n",
       "      <td>10.95844</td>\n",
       "      <td>193.2129</td>\n",
       "      <td>3.356120</td>\n",
       "      <td>2.408854</td>\n",
       "      <td>5.706380</td>\n",
       "      <td>28.62710</td>\n",
       "      <td>0.206505</td>\n",
       "      <td>1.380509</td>\n",
       "      <td>...</td>\n",
       "      <td>977.2</td>\n",
       "      <td>NaN</td>\n",
       "      <td>NaN</td>\n",
       "      <td>NaN</td>\n",
       "      <td>NaN</td>\n",
       "      <td>2.400000</td>\n",
       "      <td>2.316667</td>\n",
       "      <td>2.496667</td>\n",
       "      <td>23.20000</td>\n",
       "      <td>37.89333</td>\n",
       "    </tr>\n",
       "    <tr>\n",
       "      <th>2016-06-30 00:02:14</th>\n",
       "      <td>20.57796</td>\n",
       "      <td>449.3582</td>\n",
       "      <td>10.96617</td>\n",
       "      <td>193.3431</td>\n",
       "      <td>3.372396</td>\n",
       "      <td>2.552083</td>\n",
       "      <td>5.887044</td>\n",
       "      <td>29.22985</td>\n",
       "      <td>0.191008</td>\n",
       "      <td>1.433969</td>\n",
       "      <td>...</td>\n",
       "      <td>977.2</td>\n",
       "      <td>NaN</td>\n",
       "      <td>NaN</td>\n",
       "      <td>NaN</td>\n",
       "      <td>NaN</td>\n",
       "      <td>2.290000</td>\n",
       "      <td>2.190000</td>\n",
       "      <td>2.373333</td>\n",
       "      <td>23.28000</td>\n",
       "      <td>37.51000</td>\n",
       "    </tr>\n",
       "    <tr>\n",
       "      <th>2016-06-30 00:03:14</th>\n",
       "      <td>20.77096</td>\n",
       "      <td>446.7017</td>\n",
       "      <td>10.89469</td>\n",
       "      <td>193.4733</td>\n",
       "      <td>3.408203</td>\n",
       "      <td>2.690430</td>\n",
       "      <td>6.022135</td>\n",
       "      <td>29.64040</td>\n",
       "      <td>0.186178</td>\n",
       "      <td>1.437424</td>\n",
       "      <td>...</td>\n",
       "      <td>977.2</td>\n",
       "      <td>NaN</td>\n",
       "      <td>NaN</td>\n",
       "      <td>NaN</td>\n",
       "      <td>NaN</td>\n",
       "      <td>2.530000</td>\n",
       "      <td>2.433333</td>\n",
       "      <td>2.630000</td>\n",
       "      <td>23.38667</td>\n",
       "      <td>37.38667</td>\n",
       "    </tr>\n",
       "    <tr>\n",
       "      <th>2016-06-30 00:04:14</th>\n",
       "      <td>21.03507</td>\n",
       "      <td>454.7920</td>\n",
       "      <td>10.93333</td>\n",
       "      <td>193.3919</td>\n",
       "      <td>3.471680</td>\n",
       "      <td>2.815755</td>\n",
       "      <td>6.210938</td>\n",
       "      <td>29.46129</td>\n",
       "      <td>0.216567</td>\n",
       "      <td>1.442756</td>\n",
       "      <td>...</td>\n",
       "      <td>977.2</td>\n",
       "      <td>NaN</td>\n",
       "      <td>NaN</td>\n",
       "      <td>NaN</td>\n",
       "      <td>NaN</td>\n",
       "      <td>2.893333</td>\n",
       "      <td>2.753333</td>\n",
       "      <td>3.023333</td>\n",
       "      <td>23.48000</td>\n",
       "      <td>37.16667</td>\n",
       "    </tr>\n",
       "    <tr>\n",
       "      <th>2016-06-30 00:05:14</th>\n",
       "      <td>21.28902</td>\n",
       "      <td>449.0362</td>\n",
       "      <td>10.82771</td>\n",
       "      <td>193.1966</td>\n",
       "      <td>3.494466</td>\n",
       "      <td>2.989909</td>\n",
       "      <td>6.386719</td>\n",
       "      <td>29.23287</td>\n",
       "      <td>0.214152</td>\n",
       "      <td>1.415293</td>\n",
       "      <td>...</td>\n",
       "      <td>977.2</td>\n",
       "      <td>NaN</td>\n",
       "      <td>NaN</td>\n",
       "      <td>NaN</td>\n",
       "      <td>NaN</td>\n",
       "      <td>3.500000</td>\n",
       "      <td>3.360000</td>\n",
       "      <td>3.650000</td>\n",
       "      <td>23.59667</td>\n",
       "      <td>37.13333</td>\n",
       "    </tr>\n",
       "  </tbody>\n",
       "</table>\n",
       "<p>5 rows × 27 columns</p>\n",
       "</div>"
      ],
      "text/plain": [
       "                     LabjackU3_T  LI840A_CO2  LI840A_H2O   TAPI_CO   TAPI_NO  \\\n",
       "TheTime                                                                        \n",
       "2016-06-30 00:01:14     20.43913    450.8072    10.95844  193.2129  3.356120   \n",
       "2016-06-30 00:02:14     20.57796    449.3582    10.96617  193.3431  3.372396   \n",
       "2016-06-30 00:03:14     20.77096    446.7017    10.89469  193.4733  3.408203   \n",
       "2016-06-30 00:04:14     21.03507    454.7920    10.93333  193.3919  3.471680   \n",
       "2016-06-30 00:05:14     21.28902    449.0362    10.82771  193.1966  3.494466   \n",
       "\n",
       "                     TAPI_NO2  TAPI_NOx   TAPI_O3  TAPI_SO2  TSI_flow  \\\n",
       "TheTime                                                                 \n",
       "2016-06-30 00:01:14  2.408854  5.706380  28.62710  0.206505  1.380509   \n",
       "2016-06-30 00:02:14  2.552083  5.887044  29.22985  0.191008  1.433969   \n",
       "2016-06-30 00:03:14  2.690430  6.022135  29.64040  0.186178  1.437424   \n",
       "2016-06-30 00:04:14  2.815755  6.210938  29.46129  0.216567  1.442756   \n",
       "2016-06-30 00:05:14  2.989909  6.386719  29.23287  0.214152  1.415293   \n",
       "\n",
       "                       ...     WXT_Pa  WXT_Rc  WXT_Rd  WXT_Ri  WXT_Rp  \\\n",
       "TheTime                ...                                              \n",
       "2016-06-30 00:01:14    ...      977.2     NaN     NaN     NaN     NaN   \n",
       "2016-06-30 00:02:14    ...      977.2     NaN     NaN     NaN     NaN   \n",
       "2016-06-30 00:03:14    ...      977.2     NaN     NaN     NaN     NaN   \n",
       "2016-06-30 00:04:14    ...      977.2     NaN     NaN     NaN     NaN   \n",
       "2016-06-30 00:05:14    ...      977.2     NaN     NaN     NaN     NaN   \n",
       "\n",
       "                       WXT_Sm    WXT_Sn    WXT_Sx    WXT_Ta    WXT_Ua  \n",
       "TheTime                                                                \n",
       "2016-06-30 00:01:14  2.400000  2.316667  2.496667  23.20000  37.89333  \n",
       "2016-06-30 00:02:14  2.290000  2.190000  2.373333  23.28000  37.51000  \n",
       "2016-06-30 00:03:14  2.530000  2.433333  2.630000  23.38667  37.38667  \n",
       "2016-06-30 00:04:14  2.893333  2.753333  3.023333  23.48000  37.16667  \n",
       "2016-06-30 00:05:14  3.500000  3.360000  3.650000  23.59667  37.13333  \n",
       "\n",
       "[5 rows x 27 columns]"
      ]
     },
     "execution_count": 3,
     "metadata": {},
     "output_type": "execute_result"
    }
   ],
   "source": [
    "rack = pd.read_csv('Lewiston_Rack160630.txt',\n",
    "                   # HINT indexing begins with 0\n",
    "                   header=0, # headers 1st row\n",
    "                   index_col=0, # timestamps 1st column\n",
    "                   # specify as seconds to recognize as epoch timestamp.. BUT\n",
    "                   # it's local time (i.e. no timezone conversion required)\n",
    "                   # (Section 9.10.3, http://www.azeotech.com/dl/usersguide.pdf)\n",
    "                   date_parser=lambda x: pd.to_datetime(x, unit='s'),\n",
    "                   parse_dates=True)\n",
    "\n",
    "rack.head() # try `.tail()` to see the end instead"
   ]
  },
  {
   "cell_type": "markdown",
   "metadata": {},
   "source": [
    "http://pandas.pydata.org/pandas-docs/stable/timeseries.html#resampling"
   ]
  },
  {
   "cell_type": "code",
   "execution_count": 4,
   "metadata": {
    "collapsed": false
   },
   "outputs": [
    {
     "data": {
      "text/html": [
       "<div>\n",
       "<table border=\"1\" class=\"dataframe\">\n",
       "  <thead>\n",
       "    <tr style=\"text-align: right;\">\n",
       "      <th></th>\n",
       "      <th>LabjackU3_T</th>\n",
       "      <th>LI840A_CO2</th>\n",
       "      <th>LI840A_H2O</th>\n",
       "      <th>TAPI_CO</th>\n",
       "      <th>TAPI_NO</th>\n",
       "      <th>TAPI_NO2</th>\n",
       "      <th>TAPI_NOx</th>\n",
       "      <th>TAPI_O3</th>\n",
       "      <th>TAPI_SO2</th>\n",
       "      <th>TSI_flow</th>\n",
       "      <th>...</th>\n",
       "      <th>WXT_Pa</th>\n",
       "      <th>WXT_Rc</th>\n",
       "      <th>WXT_Rd</th>\n",
       "      <th>WXT_Ri</th>\n",
       "      <th>WXT_Rp</th>\n",
       "      <th>WXT_Sm</th>\n",
       "      <th>WXT_Sn</th>\n",
       "      <th>WXT_Sx</th>\n",
       "      <th>WXT_Ta</th>\n",
       "      <th>WXT_Ua</th>\n",
       "    </tr>\n",
       "    <tr>\n",
       "      <th>TheTime</th>\n",
       "      <th></th>\n",
       "      <th></th>\n",
       "      <th></th>\n",
       "      <th></th>\n",
       "      <th></th>\n",
       "      <th></th>\n",
       "      <th></th>\n",
       "      <th></th>\n",
       "      <th></th>\n",
       "      <th></th>\n",
       "      <th></th>\n",
       "      <th></th>\n",
       "      <th></th>\n",
       "      <th></th>\n",
       "      <th></th>\n",
       "      <th></th>\n",
       "      <th></th>\n",
       "      <th></th>\n",
       "      <th></th>\n",
       "      <th></th>\n",
       "      <th></th>\n",
       "    </tr>\n",
       "  </thead>\n",
       "  <tbody>\n",
       "    <tr>\n",
       "      <th>2016-06-30 00:01:00</th>\n",
       "      <td>20.43913</td>\n",
       "      <td>450.8072</td>\n",
       "      <td>10.95844</td>\n",
       "      <td>193.2129</td>\n",
       "      <td>3.356120</td>\n",
       "      <td>2.408854</td>\n",
       "      <td>5.706380</td>\n",
       "      <td>28.62710</td>\n",
       "      <td>0.206505</td>\n",
       "      <td>1.380509</td>\n",
       "      <td>...</td>\n",
       "      <td>977.2</td>\n",
       "      <td>NaN</td>\n",
       "      <td>NaN</td>\n",
       "      <td>NaN</td>\n",
       "      <td>NaN</td>\n",
       "      <td>2.400000</td>\n",
       "      <td>2.316667</td>\n",
       "      <td>2.496667</td>\n",
       "      <td>23.20000</td>\n",
       "      <td>37.89333</td>\n",
       "    </tr>\n",
       "    <tr>\n",
       "      <th>2016-06-30 00:02:00</th>\n",
       "      <td>20.57796</td>\n",
       "      <td>449.3582</td>\n",
       "      <td>10.96617</td>\n",
       "      <td>193.3431</td>\n",
       "      <td>3.372396</td>\n",
       "      <td>2.552083</td>\n",
       "      <td>5.887044</td>\n",
       "      <td>29.22985</td>\n",
       "      <td>0.191008</td>\n",
       "      <td>1.433969</td>\n",
       "      <td>...</td>\n",
       "      <td>977.2</td>\n",
       "      <td>NaN</td>\n",
       "      <td>NaN</td>\n",
       "      <td>NaN</td>\n",
       "      <td>NaN</td>\n",
       "      <td>2.290000</td>\n",
       "      <td>2.190000</td>\n",
       "      <td>2.373333</td>\n",
       "      <td>23.28000</td>\n",
       "      <td>37.51000</td>\n",
       "    </tr>\n",
       "    <tr>\n",
       "      <th>2016-06-30 00:03:00</th>\n",
       "      <td>20.77096</td>\n",
       "      <td>446.7017</td>\n",
       "      <td>10.89469</td>\n",
       "      <td>193.4733</td>\n",
       "      <td>3.408203</td>\n",
       "      <td>2.690430</td>\n",
       "      <td>6.022135</td>\n",
       "      <td>29.64040</td>\n",
       "      <td>0.186178</td>\n",
       "      <td>1.437424</td>\n",
       "      <td>...</td>\n",
       "      <td>977.2</td>\n",
       "      <td>NaN</td>\n",
       "      <td>NaN</td>\n",
       "      <td>NaN</td>\n",
       "      <td>NaN</td>\n",
       "      <td>2.530000</td>\n",
       "      <td>2.433333</td>\n",
       "      <td>2.630000</td>\n",
       "      <td>23.38667</td>\n",
       "      <td>37.38667</td>\n",
       "    </tr>\n",
       "    <tr>\n",
       "      <th>2016-06-30 00:04:00</th>\n",
       "      <td>21.03507</td>\n",
       "      <td>454.7920</td>\n",
       "      <td>10.93333</td>\n",
       "      <td>193.3919</td>\n",
       "      <td>3.471680</td>\n",
       "      <td>2.815755</td>\n",
       "      <td>6.210938</td>\n",
       "      <td>29.46129</td>\n",
       "      <td>0.216567</td>\n",
       "      <td>1.442756</td>\n",
       "      <td>...</td>\n",
       "      <td>977.2</td>\n",
       "      <td>NaN</td>\n",
       "      <td>NaN</td>\n",
       "      <td>NaN</td>\n",
       "      <td>NaN</td>\n",
       "      <td>2.893333</td>\n",
       "      <td>2.753333</td>\n",
       "      <td>3.023333</td>\n",
       "      <td>23.48000</td>\n",
       "      <td>37.16667</td>\n",
       "    </tr>\n",
       "    <tr>\n",
       "      <th>2016-06-30 00:05:00</th>\n",
       "      <td>21.28902</td>\n",
       "      <td>449.0362</td>\n",
       "      <td>10.82771</td>\n",
       "      <td>193.1966</td>\n",
       "      <td>3.494466</td>\n",
       "      <td>2.989909</td>\n",
       "      <td>6.386719</td>\n",
       "      <td>29.23287</td>\n",
       "      <td>0.214152</td>\n",
       "      <td>1.415293</td>\n",
       "      <td>...</td>\n",
       "      <td>977.2</td>\n",
       "      <td>NaN</td>\n",
       "      <td>NaN</td>\n",
       "      <td>NaN</td>\n",
       "      <td>NaN</td>\n",
       "      <td>3.500000</td>\n",
       "      <td>3.360000</td>\n",
       "      <td>3.650000</td>\n",
       "      <td>23.59667</td>\n",
       "      <td>37.13333</td>\n",
       "    </tr>\n",
       "  </tbody>\n",
       "</table>\n",
       "<p>5 rows × 27 columns</p>\n",
       "</div>"
      ],
      "text/plain": [
       "                     LabjackU3_T  LI840A_CO2  LI840A_H2O   TAPI_CO   TAPI_NO  \\\n",
       "TheTime                                                                        \n",
       "2016-06-30 00:01:00     20.43913    450.8072    10.95844  193.2129  3.356120   \n",
       "2016-06-30 00:02:00     20.57796    449.3582    10.96617  193.3431  3.372396   \n",
       "2016-06-30 00:03:00     20.77096    446.7017    10.89469  193.4733  3.408203   \n",
       "2016-06-30 00:04:00     21.03507    454.7920    10.93333  193.3919  3.471680   \n",
       "2016-06-30 00:05:00     21.28902    449.0362    10.82771  193.1966  3.494466   \n",
       "\n",
       "                     TAPI_NO2  TAPI_NOx   TAPI_O3  TAPI_SO2  TSI_flow  \\\n",
       "TheTime                                                                 \n",
       "2016-06-30 00:01:00  2.408854  5.706380  28.62710  0.206505  1.380509   \n",
       "2016-06-30 00:02:00  2.552083  5.887044  29.22985  0.191008  1.433969   \n",
       "2016-06-30 00:03:00  2.690430  6.022135  29.64040  0.186178  1.437424   \n",
       "2016-06-30 00:04:00  2.815755  6.210938  29.46129  0.216567  1.442756   \n",
       "2016-06-30 00:05:00  2.989909  6.386719  29.23287  0.214152  1.415293   \n",
       "\n",
       "                       ...     WXT_Pa  WXT_Rc  WXT_Rd  WXT_Ri  WXT_Rp  \\\n",
       "TheTime                ...                                              \n",
       "2016-06-30 00:01:00    ...      977.2     NaN     NaN     NaN     NaN   \n",
       "2016-06-30 00:02:00    ...      977.2     NaN     NaN     NaN     NaN   \n",
       "2016-06-30 00:03:00    ...      977.2     NaN     NaN     NaN     NaN   \n",
       "2016-06-30 00:04:00    ...      977.2     NaN     NaN     NaN     NaN   \n",
       "2016-06-30 00:05:00    ...      977.2     NaN     NaN     NaN     NaN   \n",
       "\n",
       "                       WXT_Sm    WXT_Sn    WXT_Sx    WXT_Ta    WXT_Ua  \n",
       "TheTime                                                                \n",
       "2016-06-30 00:01:00  2.400000  2.316667  2.496667  23.20000  37.89333  \n",
       "2016-06-30 00:02:00  2.290000  2.190000  2.373333  23.28000  37.51000  \n",
       "2016-06-30 00:03:00  2.530000  2.433333  2.630000  23.38667  37.38667  \n",
       "2016-06-30 00:04:00  2.893333  2.753333  3.023333  23.48000  37.16667  \n",
       "2016-06-30 00:05:00  3.500000  3.360000  3.650000  23.59667  37.13333  \n",
       "\n",
       "[5 rows x 27 columns]"
      ]
     },
     "execution_count": 4,
     "metadata": {},
     "output_type": "execute_result"
    }
   ],
   "source": [
    "rack = rack.resample('T').first() # align to whole minutes (not in-place operation)\n",
    "rack.head()"
   ]
  },
  {
   "cell_type": "markdown",
   "metadata": {},
   "source": [
    "#### CO2/H2O Analyzer Files (LI-840A Software)"
   ]
  },
  {
   "cell_type": "code",
   "execution_count": 5,
   "metadata": {
    "collapsed": false
   },
   "outputs": [
    {
     "data": {
      "text/html": [
       "<div>\n",
       "<table border=\"1\" class=\"dataframe\">\n",
       "  <thead>\n",
       "    <tr style=\"text-align: right;\">\n",
       "      <th></th>\n",
       "      <th>CO2(ppm)</th>\n",
       "      <th>H2O(ppt)</th>\n",
       "      <th>H2O(C)</th>\n",
       "      <th>Cell_Temperature(C)</th>\n",
       "      <th>Cell_Pressure(kPa)</th>\n",
       "    </tr>\n",
       "    <tr>\n",
       "      <th>timestamp</th>\n",
       "      <th></th>\n",
       "      <th></th>\n",
       "      <th></th>\n",
       "      <th></th>\n",
       "      <th></th>\n",
       "    </tr>\n",
       "  </thead>\n",
       "  <tbody>\n",
       "    <tr>\n",
       "      <th>2016-07-07 16:42:12</th>\n",
       "      <td>420.87</td>\n",
       "      <td>9.27</td>\n",
       "      <td>4.72</td>\n",
       "      <td>51.25</td>\n",
       "      <td>92.66</td>\n",
       "    </tr>\n",
       "    <tr>\n",
       "      <th>2016-07-07 16:42:13</th>\n",
       "      <td>420.28</td>\n",
       "      <td>9.24</td>\n",
       "      <td>4.67</td>\n",
       "      <td>51.23</td>\n",
       "      <td>92.65</td>\n",
       "    </tr>\n",
       "    <tr>\n",
       "      <th>2016-07-07 16:42:14</th>\n",
       "      <td>420.38</td>\n",
       "      <td>9.28</td>\n",
       "      <td>4.73</td>\n",
       "      <td>51.25</td>\n",
       "      <td>92.67</td>\n",
       "    </tr>\n",
       "    <tr>\n",
       "      <th>2016-07-07 16:42:15</th>\n",
       "      <td>421.03</td>\n",
       "      <td>9.27</td>\n",
       "      <td>4.72</td>\n",
       "      <td>51.25</td>\n",
       "      <td>92.67</td>\n",
       "    </tr>\n",
       "    <tr>\n",
       "      <th>2016-07-07 16:42:16</th>\n",
       "      <td>420.42</td>\n",
       "      <td>9.28</td>\n",
       "      <td>4.73</td>\n",
       "      <td>51.27</td>\n",
       "      <td>92.66</td>\n",
       "    </tr>\n",
       "  </tbody>\n",
       "</table>\n",
       "</div>"
      ],
      "text/plain": [
       "                     CO2(ppm)  H2O(ppt)  H2O(C)  Cell_Temperature(C)  \\\n",
       "timestamp                                                              \n",
       "2016-07-07 16:42:12    420.87      9.27    4.72                51.25   \n",
       "2016-07-07 16:42:13    420.28      9.24    4.67                51.23   \n",
       "2016-07-07 16:42:14    420.38      9.28    4.73                51.25   \n",
       "2016-07-07 16:42:15    421.03      9.27    4.72                51.25   \n",
       "2016-07-07 16:42:16    420.42      9.28    4.73                51.27   \n",
       "\n",
       "                     Cell_Pressure(kPa)  \n",
       "timestamp                                \n",
       "2016-07-07 16:42:12               92.66  \n",
       "2016-07-07 16:42:13               92.65  \n",
       "2016-07-07 16:42:14               92.67  \n",
       "2016-07-07 16:42:15               92.67  \n",
       "2016-07-07 16:42:16               92.66  "
      ]
     },
     "execution_count": 5,
     "metadata": {},
     "output_type": "execute_result"
    }
   ],
   "source": [
    "li840a_1hz = pd.read_table('li840a_20160707.txt', # table for tab-separated\n",
    "                           header=1, # header 1st row names 2nd\n",
    "                           parse_dates={'timestamp': [0,1]}, # combine 1st, 2nd col\n",
    "                           index_col=0) # dates 1st col\n",
    "li840a_1hz.head()"
   ]
  },
  {
   "cell_type": "code",
   "execution_count": 6,
   "metadata": {
    "collapsed": false
   },
   "outputs": [
    {
     "data": {
      "text/html": [
       "<div>\n",
       "<table border=\"1\" class=\"dataframe\">\n",
       "  <thead>\n",
       "    <tr style=\"text-align: right;\">\n",
       "      <th></th>\n",
       "      <th>CO2(ppm)</th>\n",
       "      <th>H2O(ppt)</th>\n",
       "      <th>H2O(C)</th>\n",
       "      <th>Cell_Temperature(C)</th>\n",
       "      <th>Cell_Pressure(kPa)</th>\n",
       "    </tr>\n",
       "    <tr>\n",
       "      <th>timestamp</th>\n",
       "      <th></th>\n",
       "      <th></th>\n",
       "      <th></th>\n",
       "      <th></th>\n",
       "      <th></th>\n",
       "    </tr>\n",
       "  </thead>\n",
       "  <tbody>\n",
       "    <tr>\n",
       "      <th>2016-07-07 16:42:00</th>\n",
       "      <td>420.595000</td>\n",
       "      <td>9.314318</td>\n",
       "      <td>4.789091</td>\n",
       "      <td>51.258636</td>\n",
       "      <td>92.669318</td>\n",
       "    </tr>\n",
       "    <tr>\n",
       "      <th>2016-07-07 16:43:00</th>\n",
       "      <td>420.203860</td>\n",
       "      <td>9.389474</td>\n",
       "      <td>4.905263</td>\n",
       "      <td>51.259825</td>\n",
       "      <td>92.667018</td>\n",
       "    </tr>\n",
       "    <tr>\n",
       "      <th>2016-07-07 16:44:00</th>\n",
       "      <td>420.131500</td>\n",
       "      <td>9.449500</td>\n",
       "      <td>4.997333</td>\n",
       "      <td>51.260667</td>\n",
       "      <td>92.668167</td>\n",
       "    </tr>\n",
       "    <tr>\n",
       "      <th>2016-07-07 16:45:00</th>\n",
       "      <td>420.172167</td>\n",
       "      <td>9.494000</td>\n",
       "      <td>5.066833</td>\n",
       "      <td>51.259000</td>\n",
       "      <td>92.695500</td>\n",
       "    </tr>\n",
       "    <tr>\n",
       "      <th>2016-07-07 16:46:00</th>\n",
       "      <td>420.326000</td>\n",
       "      <td>9.604833</td>\n",
       "      <td>5.233833</td>\n",
       "      <td>51.259833</td>\n",
       "      <td>92.693500</td>\n",
       "    </tr>\n",
       "  </tbody>\n",
       "</table>\n",
       "</div>"
      ],
      "text/plain": [
       "                       CO2(ppm)  H2O(ppt)    H2O(C)  Cell_Temperature(C)  \\\n",
       "timestamp                                                                  \n",
       "2016-07-07 16:42:00  420.595000  9.314318  4.789091            51.258636   \n",
       "2016-07-07 16:43:00  420.203860  9.389474  4.905263            51.259825   \n",
       "2016-07-07 16:44:00  420.131500  9.449500  4.997333            51.260667   \n",
       "2016-07-07 16:45:00  420.172167  9.494000  5.066833            51.259000   \n",
       "2016-07-07 16:46:00  420.326000  9.604833  5.233833            51.259833   \n",
       "\n",
       "                     Cell_Pressure(kPa)  \n",
       "timestamp                                \n",
       "2016-07-07 16:42:00           92.669318  \n",
       "2016-07-07 16:43:00           92.667018  \n",
       "2016-07-07 16:44:00           92.668167  \n",
       "2016-07-07 16:45:00           92.695500  \n",
       "2016-07-07 16:46:00           92.693500  "
      ]
     },
     "execution_count": 6,
     "metadata": {},
     "output_type": "execute_result"
    }
   ],
   "source": [
    "li840a = li840a_1hz.resample('T').mean() # downsample to 1-min\n",
    "li840a.head()\n",
    "\n",
    "## HINT `.median()` is arguably a better choice -- see cell [25]"
   ]
  },
  {
   "cell_type": "code",
   "execution_count": 7,
   "metadata": {
    "collapsed": false
   },
   "outputs": [
    {
     "data": {
      "text/html": [
       "<div>\n",
       "<table border=\"1\" class=\"dataframe\">\n",
       "  <thead>\n",
       "    <tr style=\"text-align: right;\">\n",
       "      <th></th>\n",
       "      <th>CO2(ppm)</th>\n",
       "      <th>H2O(ppt)</th>\n",
       "      <th>H2O(C)</th>\n",
       "      <th>Cell_Temperature(C)</th>\n",
       "      <th>Cell_Pressure(kPa)</th>\n",
       "    </tr>\n",
       "    <tr>\n",
       "      <th>timestamp</th>\n",
       "      <th></th>\n",
       "      <th></th>\n",
       "      <th></th>\n",
       "      <th></th>\n",
       "      <th></th>\n",
       "    </tr>\n",
       "  </thead>\n",
       "  <tbody>\n",
       "    <tr>\n",
       "      <th>2016-07-07 16:00:00</th>\n",
       "      <td>423.32</td>\n",
       "      <td>10.07</td>\n",
       "      <td>5.91</td>\n",
       "      <td>51.29</td>\n",
       "      <td>92.74</td>\n",
       "    </tr>\n",
       "    <tr>\n",
       "      <th>2016-07-07 17:00:00</th>\n",
       "      <td>420.17</td>\n",
       "      <td>10.39</td>\n",
       "      <td>6.38</td>\n",
       "      <td>51.29</td>\n",
       "      <td>92.76</td>\n",
       "    </tr>\n",
       "    <tr>\n",
       "      <th>2016-07-07 18:00:00</th>\n",
       "      <td>426.26</td>\n",
       "      <td>10.60</td>\n",
       "      <td>6.65</td>\n",
       "      <td>51.29</td>\n",
       "      <td>92.77</td>\n",
       "    </tr>\n",
       "    <tr>\n",
       "      <th>2016-07-07 19:00:00</th>\n",
       "      <td>439.98</td>\n",
       "      <td>11.15</td>\n",
       "      <td>7.41</td>\n",
       "      <td>51.31</td>\n",
       "      <td>92.81</td>\n",
       "    </tr>\n",
       "    <tr>\n",
       "      <th>2016-07-07 20:00:00</th>\n",
       "      <td>441.56</td>\n",
       "      <td>11.21</td>\n",
       "      <td>7.48</td>\n",
       "      <td>51.31</td>\n",
       "      <td>92.86</td>\n",
       "    </tr>\n",
       "  </tbody>\n",
       "</table>\n",
       "</div>"
      ],
      "text/plain": [
       "                     CO2(ppm)  H2O(ppt)  H2O(C)  Cell_Temperature(C)  \\\n",
       "timestamp                                                              \n",
       "2016-07-07 16:00:00    423.32     10.07    5.91                51.29   \n",
       "2016-07-07 17:00:00    420.17     10.39    6.38                51.29   \n",
       "2016-07-07 18:00:00    426.26     10.60    6.65                51.29   \n",
       "2016-07-07 19:00:00    439.98     11.15    7.41                51.31   \n",
       "2016-07-07 20:00:00    441.56     11.21    7.48                51.31   \n",
       "\n",
       "                     Cell_Pressure(kPa)  \n",
       "timestamp                                \n",
       "2016-07-07 16:00:00               92.74  \n",
       "2016-07-07 17:00:00               92.76  \n",
       "2016-07-07 18:00:00               92.77  \n",
       "2016-07-07 19:00:00               92.81  \n",
       "2016-07-07 20:00:00               92.86  "
      ]
     },
     "execution_count": 7,
     "metadata": {},
     "output_type": "execute_result"
    }
   ],
   "source": [
    "li840a_1hz.resample('1h').max().head() # ex: to hourly values, by max value"
   ]
  },
  {
   "cell_type": "markdown",
   "metadata": {},
   "source": [
    "#### Teledyne Analyzer Files (APICOM)"
   ]
  },
  {
   "cell_type": "code",
   "execution_count": 8,
   "metadata": {
    "collapsed": true
   },
   "outputs": [],
   "source": [
    "def read_tapi(filepath): ## FIRST DRAFT...\n",
    "    return pd.read_csv(filepath,\n",
    "                       header=0, # names 1st row\n",
    "                       index_col=0, # timestamps 1st col\n",
    "                       parse_dates=True, # US format (MM/DD/YYYY)\n",
    "                       skipinitialspace=True) # has spaces and commas"
   ]
  },
  {
   "cell_type": "code",
   "execution_count": 9,
   "metadata": {
    "collapsed": false
   },
   "outputs": [
    {
     "data": {
      "text/html": [
       "<div>\n",
       "<table border=\"1\" class=\"dataframe\">\n",
       "  <thead>\n",
       "    <tr style=\"text-align: right;\">\n",
       "      <th></th>\n",
       "      <th>CONC1-AVG (PPM)</th>\n",
       "      <th>STABIL-AVG (PPM)</th>\n",
       "    </tr>\n",
       "    <tr>\n",
       "      <th>Time Stamp</th>\n",
       "      <th></th>\n",
       "      <th></th>\n",
       "    </tr>\n",
       "  </thead>\n",
       "  <tbody>\n",
       "    <tr>\n",
       "      <th>2016-06-27 12:53:01</th>\n",
       "      <td>0.326282</td>\n",
       "      <td>0.021076</td>\n",
       "    </tr>\n",
       "    <tr>\n",
       "      <th>2016-06-27 12:54:01</th>\n",
       "      <td>0.322445</td>\n",
       "      <td>0.019224</td>\n",
       "    </tr>\n",
       "    <tr>\n",
       "      <th>2016-06-27 12:55:01</th>\n",
       "      <td>0.320961</td>\n",
       "      <td>0.019224</td>\n",
       "    </tr>\n",
       "    <tr>\n",
       "      <th>2016-06-27 12:56:01</th>\n",
       "      <td>0.322613</td>\n",
       "      <td>0.016943</td>\n",
       "    </tr>\n",
       "    <tr>\n",
       "      <th>2016-06-27 12:57:01</th>\n",
       "      <td>0.326330</td>\n",
       "      <td>0.016943</td>\n",
       "    </tr>\n",
       "  </tbody>\n",
       "</table>\n",
       "</div>"
      ],
      "text/plain": [
       "                     CONC1-AVG (PPM)  STABIL-AVG (PPM)\n",
       "Time Stamp                                            \n",
       "2016-06-27 12:53:01         0.326282          0.021076\n",
       "2016-06-27 12:54:01         0.322445          0.019224\n",
       "2016-06-27 12:55:01         0.320961          0.019224\n",
       "2016-06-27 12:56:01         0.322613          0.016943\n",
       "2016-06-27 12:57:01         0.326330          0.016943"
      ]
     },
     "execution_count": 9,
     "metadata": {},
     "output_type": "execute_result"
    }
   ],
   "source": [
    "co = read_tapi('CO_1min_20160630.csv')\n",
    "co.head()"
   ]
  },
  {
   "cell_type": "markdown",
   "metadata": {},
   "source": [
    "http://pandas.pydata.org/pandas-docs/stable/generated/pandas.DataFrame.shift.html"
   ]
  },
  {
   "cell_type": "code",
   "execution_count": 10,
   "metadata": {
    "collapsed": false
   },
   "outputs": [
    {
     "data": {
      "text/html": [
       "<div>\n",
       "<table border=\"1\" class=\"dataframe\">\n",
       "  <thead>\n",
       "    <tr style=\"text-align: right;\">\n",
       "      <th></th>\n",
       "      <th>CONC1-AVG (PPM)</th>\n",
       "      <th>STABIL-AVG (PPM)</th>\n",
       "    </tr>\n",
       "    <tr>\n",
       "      <th>Time Stamp</th>\n",
       "      <th></th>\n",
       "      <th></th>\n",
       "    </tr>\n",
       "  </thead>\n",
       "  <tbody>\n",
       "    <tr>\n",
       "      <th>2016-06-27 12:53:00</th>\n",
       "      <td>0.326282</td>\n",
       "      <td>0.021076</td>\n",
       "    </tr>\n",
       "    <tr>\n",
       "      <th>2016-06-27 12:54:00</th>\n",
       "      <td>0.322445</td>\n",
       "      <td>0.019224</td>\n",
       "    </tr>\n",
       "    <tr>\n",
       "      <th>2016-06-27 12:55:00</th>\n",
       "      <td>0.320961</td>\n",
       "      <td>0.019224</td>\n",
       "    </tr>\n",
       "    <tr>\n",
       "      <th>2016-06-27 12:56:00</th>\n",
       "      <td>0.322613</td>\n",
       "      <td>0.016943</td>\n",
       "    </tr>\n",
       "    <tr>\n",
       "      <th>2016-06-27 12:57:00</th>\n",
       "      <td>0.326330</td>\n",
       "      <td>0.016943</td>\n",
       "    </tr>\n",
       "  </tbody>\n",
       "</table>\n",
       "</div>"
      ],
      "text/plain": [
       "                     CONC1-AVG (PPM)  STABIL-AVG (PPM)\n",
       "Time Stamp                                            \n",
       "2016-06-27 12:53:00         0.326282          0.021076\n",
       "2016-06-27 12:54:00         0.322445          0.019224\n",
       "2016-06-27 12:55:00         0.320961          0.019224\n",
       "2016-06-27 12:56:00         0.322613          0.016943\n",
       "2016-06-27 12:57:00         0.326330          0.016943"
      ]
     },
     "execution_count": 10,
     "metadata": {},
     "output_type": "execute_result"
    }
   ],
   "source": [
    "co = co.shift(-1, freq='s') # roll timestamps back to whole minute values\n",
    "co.head()"
   ]
  },
  {
   "cell_type": "markdown",
   "metadata": {},
   "source": [
    "http://pandas.pydata.org/pandas-docs/stable/generated/pandas.DataFrame.rename.html"
   ]
  },
  {
   "cell_type": "code",
   "execution_count": 11,
   "metadata": {
    "collapsed": false
   },
   "outputs": [
    {
     "data": {
      "text/html": [
       "<div>\n",
       "<table border=\"1\" class=\"dataframe\">\n",
       "  <thead>\n",
       "    <tr style=\"text-align: right;\">\n",
       "      <th></th>\n",
       "      <th>CONC1-AVG(PPM)</th>\n",
       "      <th>STABIL-AVG(PPM)</th>\n",
       "    </tr>\n",
       "    <tr>\n",
       "      <th>Time Stamp</th>\n",
       "      <th></th>\n",
       "      <th></th>\n",
       "    </tr>\n",
       "  </thead>\n",
       "  <tbody>\n",
       "    <tr>\n",
       "      <th>2016-06-27 12:53:00</th>\n",
       "      <td>0.326282</td>\n",
       "      <td>0.021076</td>\n",
       "    </tr>\n",
       "    <tr>\n",
       "      <th>2016-06-27 12:54:00</th>\n",
       "      <td>0.322445</td>\n",
       "      <td>0.019224</td>\n",
       "    </tr>\n",
       "    <tr>\n",
       "      <th>2016-06-27 12:55:00</th>\n",
       "      <td>0.320961</td>\n",
       "      <td>0.019224</td>\n",
       "    </tr>\n",
       "    <tr>\n",
       "      <th>2016-06-27 12:56:00</th>\n",
       "      <td>0.322613</td>\n",
       "      <td>0.016943</td>\n",
       "    </tr>\n",
       "    <tr>\n",
       "      <th>2016-06-27 12:57:00</th>\n",
       "      <td>0.326330</td>\n",
       "      <td>0.016943</td>\n",
       "    </tr>\n",
       "  </tbody>\n",
       "</table>\n",
       "</div>"
      ],
      "text/plain": [
       "                     CONC1-AVG(PPM)  STABIL-AVG(PPM)\n",
       "Time Stamp                                          \n",
       "2016-06-27 12:53:00        0.326282         0.021076\n",
       "2016-06-27 12:54:00        0.322445         0.019224\n",
       "2016-06-27 12:55:00        0.320961         0.019224\n",
       "2016-06-27 12:56:00        0.322613         0.016943\n",
       "2016-06-27 12:57:00        0.326330         0.016943"
      ]
     },
     "execution_count": 11,
     "metadata": {},
     "output_type": "execute_result"
    }
   ],
   "source": [
    "co.rename(columns=lambda s: s.replace(' ',''), inplace=True) # remove spaces from column names\n",
    "co.head()"
   ]
  },
  {
   "cell_type": "code",
   "execution_count": 12,
   "metadata": {
    "collapsed": false
   },
   "outputs": [
    {
     "data": {
      "text/plain": [
       "DatetimeIndex(['2016-06-30 10:11:00', '2016-06-30 11:11:00',\n",
       "               '2016-06-30 12:11:00', '2016-06-30 13:11:00',\n",
       "               '2016-06-30 14:11:00', '2016-06-30 15:11:00',\n",
       "               '2016-06-30 16:11:00', '2016-06-30 17:11:00',\n",
       "               '2016-06-30 18:11:00', '2016-06-30 19:11:00',\n",
       "               ...\n",
       "               '2016-07-08 12:11:00', '2016-07-08 12:12:00',\n",
       "               '2016-07-08 13:11:00', '2016-07-08 13:12:00',\n",
       "               '2016-07-08 14:11:00', '2016-07-08 14:12:00',\n",
       "               '2016-07-08 15:11:00', '2016-07-08 15:12:00',\n",
       "               '2016-07-08 16:11:00', '2016-07-08 16:12:00'],\n",
       "              dtype='datetime64[ns]', length=260, freq=None)"
      ]
     },
     "execution_count": 12,
     "metadata": {},
     "output_type": "execute_result"
    }
   ],
   "source": [
    "co.index.get_duplicates() # duplicate rows correspond to hourly downloads by APICOM... (ugh)"
   ]
  },
  {
   "cell_type": "code",
   "execution_count": 13,
   "metadata": {
    "collapsed": false
   },
   "outputs": [
    {
     "data": {
      "text/plain": [
       "0"
      ]
     },
     "execution_count": 13,
     "metadata": {},
     "output_type": "execute_result"
    }
   ],
   "source": [
    "# to remove dups, group by timestamps then pick first row of each group\n",
    "co = co.groupby(level=0).first()\n",
    "\n",
    "len(co.index.get_duplicates()) # now check... should be 0"
   ]
  },
  {
   "cell_type": "code",
   "execution_count": 14,
   "metadata": {
    "collapsed": true
   },
   "outputs": [],
   "source": [
    "## NOW UPDATE THE IMPORT FUNCTION...\n",
    "def read_tapi(filepath):\n",
    "    df =  pd.read_csv(filepath,\n",
    "                      header=0, # names 1st row\n",
    "                      index_col=0, # timestamps 1st col\n",
    "                      parse_dates=True, # US format (MM/DD/YYYY)\n",
    "                      skipinitialspace=True) # has spaces and commas\n",
    "    df = df.shift(-1, freq='s')\n",
    "    df.rename(columns=lambda s: s.replace(' ',''), inplace=True)\n",
    "    if len(df.index.get_duplicates()):\n",
    "        df = df.groupby(level=0).first()\n",
    "    return df"
   ]
  },
  {
   "cell_type": "code",
   "execution_count": 15,
   "metadata": {
    "collapsed": false
   },
   "outputs": [
    {
     "data": {
      "text/html": [
       "<div>\n",
       "<table border=\"1\" class=\"dataframe\">\n",
       "  <thead>\n",
       "    <tr style=\"text-align: right;\">\n",
       "      <th></th>\n",
       "      <th>NOXCNC1-AVG(PPB)</th>\n",
       "      <th>NOCNC1-AVG(PPB)</th>\n",
       "      <th>NO2CNC1-AVG(PPB)</th>\n",
       "      <th>STABIL-AVG(PPM)</th>\n",
       "    </tr>\n",
       "    <tr>\n",
       "      <th>Time Stamp</th>\n",
       "      <th></th>\n",
       "      <th></th>\n",
       "      <th></th>\n",
       "      <th></th>\n",
       "    </tr>\n",
       "  </thead>\n",
       "  <tbody>\n",
       "    <tr>\n",
       "      <th>2016-06-27 12:53:00</th>\n",
       "      <td>7.5643</td>\n",
       "      <td>2.1399</td>\n",
       "      <td>5.4245</td>\n",
       "      <td>0.0957</td>\n",
       "    </tr>\n",
       "    <tr>\n",
       "      <th>2016-06-27 12:54:00</th>\n",
       "      <td>7.3682</td>\n",
       "      <td>2.0629</td>\n",
       "      <td>5.3053</td>\n",
       "      <td>0.1720</td>\n",
       "    </tr>\n",
       "    <tr>\n",
       "      <th>2016-06-27 12:55:00</th>\n",
       "      <td>7.1038</td>\n",
       "      <td>1.9771</td>\n",
       "      <td>5.1268</td>\n",
       "      <td>0.2378</td>\n",
       "    </tr>\n",
       "    <tr>\n",
       "      <th>2016-06-27 12:56:00</th>\n",
       "      <td>6.8719</td>\n",
       "      <td>1.9167</td>\n",
       "      <td>4.9553</td>\n",
       "      <td>0.2733</td>\n",
       "    </tr>\n",
       "    <tr>\n",
       "      <th>2016-06-27 12:57:00</th>\n",
       "      <td>6.7139</td>\n",
       "      <td>1.8708</td>\n",
       "      <td>4.8430</td>\n",
       "      <td>0.2680</td>\n",
       "    </tr>\n",
       "  </tbody>\n",
       "</table>\n",
       "</div>"
      ],
      "text/plain": [
       "                     NOXCNC1-AVG(PPB)  NOCNC1-AVG(PPB)  NO2CNC1-AVG(PPB)  \\\n",
       "Time Stamp                                                                 \n",
       "2016-06-27 12:53:00            7.5643           2.1399            5.4245   \n",
       "2016-06-27 12:54:00            7.3682           2.0629            5.3053   \n",
       "2016-06-27 12:55:00            7.1038           1.9771            5.1268   \n",
       "2016-06-27 12:56:00            6.8719           1.9167            4.9553   \n",
       "2016-06-27 12:57:00            6.7139           1.8708            4.8430   \n",
       "\n",
       "                     STABIL-AVG(PPM)  \n",
       "Time Stamp                            \n",
       "2016-06-27 12:53:00           0.0957  \n",
       "2016-06-27 12:54:00           0.1720  \n",
       "2016-06-27 12:55:00           0.2378  \n",
       "2016-06-27 12:56:00           0.2733  \n",
       "2016-06-27 12:57:00           0.2680  "
      ]
     },
     "execution_count": 15,
     "metadata": {},
     "output_type": "execute_result"
    }
   ],
   "source": [
    "nox = read_tapi('NONO2_1min_20160630.csv')\n",
    "nox.head()"
   ]
  },
  {
   "cell_type": "code",
   "execution_count": 16,
   "metadata": {
    "collapsed": false
   },
   "outputs": [
    {
     "data": {
      "text/html": [
       "<div>\n",
       "<table border=\"1\" class=\"dataframe\">\n",
       "  <thead>\n",
       "    <tr style=\"text-align: right;\">\n",
       "      <th></th>\n",
       "      <th>CONC1-AVG(PPB)</th>\n",
       "    </tr>\n",
       "    <tr>\n",
       "      <th>Time Stamp</th>\n",
       "      <th></th>\n",
       "    </tr>\n",
       "  </thead>\n",
       "  <tbody>\n",
       "    <tr>\n",
       "      <th>2016-06-27 12:17:00</th>\n",
       "      <td>41.4</td>\n",
       "    </tr>\n",
       "    <tr>\n",
       "      <th>2016-06-27 12:18:00</th>\n",
       "      <td>42.3</td>\n",
       "    </tr>\n",
       "    <tr>\n",
       "      <th>2016-06-27 12:20:00</th>\n",
       "      <td>40.2</td>\n",
       "    </tr>\n",
       "    <tr>\n",
       "      <th>2016-06-27 12:21:00</th>\n",
       "      <td>39.1</td>\n",
       "    </tr>\n",
       "    <tr>\n",
       "      <th>2016-06-27 12:22:00</th>\n",
       "      <td>39.9</td>\n",
       "    </tr>\n",
       "  </tbody>\n",
       "</table>\n",
       "</div>"
      ],
      "text/plain": [
       "                     CONC1-AVG(PPB)\n",
       "Time Stamp                         \n",
       "2016-06-27 12:17:00            41.4\n",
       "2016-06-27 12:18:00            42.3\n",
       "2016-06-27 12:20:00            40.2\n",
       "2016-06-27 12:21:00            39.1\n",
       "2016-06-27 12:22:00            39.9"
      ]
     },
     "execution_count": 16,
     "metadata": {},
     "output_type": "execute_result"
    }
   ],
   "source": [
    "o3 = read_tapi('O3_1min_20160630.csv')\n",
    "o3.head()"
   ]
  },
  {
   "cell_type": "code",
   "execution_count": 17,
   "metadata": {
    "collapsed": false
   },
   "outputs": [
    {
     "data": {
      "text/html": [
       "<div>\n",
       "<table border=\"1\" class=\"dataframe\">\n",
       "  <thead>\n",
       "    <tr style=\"text-align: right;\">\n",
       "      <th></th>\n",
       "      <th>CONC1-AVG(PPB)</th>\n",
       "      <th>STABIL-AVG(PPB)</th>\n",
       "    </tr>\n",
       "    <tr>\n",
       "      <th>Time Stamp</th>\n",
       "      <th></th>\n",
       "      <th></th>\n",
       "    </tr>\n",
       "  </thead>\n",
       "  <tbody>\n",
       "    <tr>\n",
       "      <th>2016-06-27 12:42:00</th>\n",
       "      <td>0.3592</td>\n",
       "      <td>0.0143</td>\n",
       "    </tr>\n",
       "    <tr>\n",
       "      <th>2016-06-27 12:43:00</th>\n",
       "      <td>0.3628</td>\n",
       "      <td>0.0085</td>\n",
       "    </tr>\n",
       "    <tr>\n",
       "      <th>2016-06-27 12:44:00</th>\n",
       "      <td>0.3781</td>\n",
       "      <td>0.0062</td>\n",
       "    </tr>\n",
       "    <tr>\n",
       "      <th>2016-06-27 12:45:00</th>\n",
       "      <td>0.4011</td>\n",
       "      <td>0.0127</td>\n",
       "    </tr>\n",
       "    <tr>\n",
       "      <th>2016-06-27 12:46:00</th>\n",
       "      <td>0.4228</td>\n",
       "      <td>0.0208</td>\n",
       "    </tr>\n",
       "  </tbody>\n",
       "</table>\n",
       "</div>"
      ],
      "text/plain": [
       "                     CONC1-AVG(PPB)  STABIL-AVG(PPB)\n",
       "Time Stamp                                          \n",
       "2016-06-27 12:42:00          0.3592           0.0143\n",
       "2016-06-27 12:43:00          0.3628           0.0085\n",
       "2016-06-27 12:44:00          0.3781           0.0062\n",
       "2016-06-27 12:45:00          0.4011           0.0127\n",
       "2016-06-27 12:46:00          0.4228           0.0208"
      ]
     },
     "execution_count": 17,
     "metadata": {},
     "output_type": "execute_result"
    }
   ],
   "source": [
    "so2 = read_tapi('SO2_1min_20160630.csv')\n",
    "so2.head()"
   ]
  },
  {
   "cell_type": "markdown",
   "metadata": {
    "collapsed": true
   },
   "source": [
    "### Plotting\n",
    "\n",
    "http://pandas.pydata.org/pandas-docs/stable/visualization.html#basic-plotting-plot"
   ]
  },
  {
   "cell_type": "code",
   "execution_count": 18,
   "metadata": {
    "collapsed": false
   },
   "outputs": [
    {
     "data": {
      "text/plain": [
       "Index(['LabjackU3_T', 'LI840A_CO2', 'LI840A_H2O', 'TAPI_CO', 'TAPI_NO',\n",
       "       'TAPI_NO2', 'TAPI_NOx', 'TAPI_O3', 'TAPI_SO2', 'TSI_flow', 'WXT_Dm',\n",
       "       'WXT_Dn', 'WXT_Dx', 'WXT_Hc', 'WXT_Hd', 'WXT_Hi', 'WXT_Hp', 'WXT_Pa',\n",
       "       'WXT_Rc', 'WXT_Rd', 'WXT_Ri', 'WXT_Rp', 'WXT_Sm', 'WXT_Sn', 'WXT_Sx',\n",
       "       'WXT_Ta', 'WXT_Ua'],\n",
       "      dtype='object')"
      ]
     },
     "execution_count": 18,
     "metadata": {},
     "output_type": "execute_result"
    }
   ],
   "source": [
    "rack.columns"
   ]
  },
  {
   "cell_type": "code",
   "execution_count": 19,
   "metadata": {
    "collapsed": false
   },
   "outputs": [
    {
     "data": {
      "text/plain": [
       "<matplotlib.axes._subplots.AxesSubplot at 0x816f518>"
      ]
     },
     "execution_count": 19,
     "metadata": {},
     "output_type": "execute_result"
    },
    {
     "data": {
      "image/png": "[encoded data removed]",
      "text/plain": [
       "<matplotlib.figure.Figure at 0x5c716d8>"
      ]
     },
     "metadata": {},
     "output_type": "display_data"
    }
   ],
   "source": [
    "rack['TAPI_O3'].plot() # select a column"
   ]
  },
  {
   "cell_type": "code",
   "execution_count": 20,
   "metadata": {
    "collapsed": false
   },
   "outputs": [
    {
     "data": {
      "text/plain": [
       "<matplotlib.axes._subplots.AxesSubplot at 0x97422e8>"
      ]
     },
     "execution_count": 20,
     "metadata": {},
     "output_type": "execute_result"
    },
    {
     "data": {
      "image/png": "[encoded data removed]",
      "text/plain": [
       "<matplotlib.figure.Figure at 0x5c719e8>"
      ]
     },
     "metadata": {},
     "output_type": "display_data"
    }
   ],
   "source": [
    "rack.TAPI_CO.plot() # easier way to select a column"
   ]
  },
  {
   "cell_type": "code",
   "execution_count": 21,
   "metadata": {
    "collapsed": false
   },
   "outputs": [
    {
     "data": {
      "text/plain": [
       "<matplotlib.axes._subplots.AxesSubplot at 0x81b5898>"
      ]
     },
     "execution_count": 21,
     "metadata": {},
     "output_type": "execute_result"
    },
    {
     "data": {
      "image/png": "[encoded data removed]",
      "text/plain": [
       "<matplotlib.figure.Figure at 0x81c7278>"
      ]
     },
     "metadata": {},
     "output_type": "display_data"
    }
   ],
   "source": [
    "# select multiple columns with list of names\n",
    "rack[['WXT_Sm', 'WXT_Sn', 'WXT_Sx']].plot(alpha=0.15) # alpha = transparency"
   ]
  },
  {
   "cell_type": "code",
   "execution_count": 22,
   "metadata": {
    "collapsed": false
   },
   "outputs": [
    {
     "data": {
      "text/plain": [
       "<matplotlib.axes._subplots.AxesSubplot at 0x90b7978>"
      ]
     },
     "execution_count": 22,
     "metadata": {},
     "output_type": "execute_result"
    },
    {
     "data": {
      "image/png": "[encoded data removed]",
      "text/plain": [
       "<matplotlib.figure.Figure at 0x8c82b00>"
      ]
     },
     "metadata": {},
     "output_type": "display_data"
    }
   ],
   "source": [
    "rack[['TAPI_NO', 'TAPI_NO2', 'TAPI_NOx']].plot(figsize=(14,4)) # bigger"
   ]
  },
  {
   "cell_type": "code",
   "execution_count": 23,
   "metadata": {
    "collapsed": false
   },
   "outputs": [
    {
     "data": {
      "text/plain": [
       "Index(['CO2(ppm)', 'H2O(ppt)', 'H2O(C)', 'Cell_Temperature(C)',\n",
       "       'Cell_Pressure(kPa)'],\n",
       "      dtype='object')"
      ]
     },
     "execution_count": 23,
     "metadata": {},
     "output_type": "execute_result"
    }
   ],
   "source": [
    "li840a.columns"
   ]
  },
  {
   "cell_type": "code",
   "execution_count": 24,
   "metadata": {
    "collapsed": false
   },
   "outputs": [
    {
     "data": {
      "text/plain": [
       "<matplotlib.axes._subplots.AxesSubplot at 0x90a3cf8>"
      ]
     },
     "execution_count": 24,
     "metadata": {},
     "output_type": "execute_result"
    },
    {
     "data": {
      "image/png": "[encoded data removed]",
      "text/plain": [
       "<matplotlib.figure.Figure at 0x90d7860>"
      ]
     },
     "metadata": {},
     "output_type": "display_data"
    }
   ],
   "source": [
    "li840a['CO2(ppm)'].plot() # column names with funny characters require this selection method"
   ]
  },
  {
   "cell_type": "code",
   "execution_count": 25,
   "metadata": {
    "collapsed": false
   },
   "outputs": [
    {
     "data": {
      "text/plain": [
       "<matplotlib.axes._subplots.AxesSubplot at 0x91ebf98>"
      ]
     },
     "execution_count": 25,
     "metadata": {},
     "output_type": "execute_result"
    },
    {
     "data": {
      "image/png": "[encoded data removed]",
      "text/plain": [
       "<matplotlib.figure.Figure at 0x908f7b8>"
      ]
     },
     "metadata": {},
     "output_type": "display_data"
    }
   ],
   "source": [
    "li840a['CO2(ppm)'].plot(style='.') # line plots can skew perception\n",
    "\n",
    "## HINT using `.median`() instead of `.mean()` removes the spurious points"
   ]
  },
  {
   "cell_type": "code",
   "execution_count": 26,
   "metadata": {
    "collapsed": false
   },
   "outputs": [
    {
     "data": {
      "text/plain": [
       "<matplotlib.axes._subplots.AxesSubplot at 0x9294be0>"
      ]
     },
     "execution_count": 26,
     "metadata": {},
     "output_type": "execute_result"
    },
    {
     "data": {
      "image/png": "[encoded data removed]",
      "text/plain": [
       "<matplotlib.figure.Figure at 0x9093d30>"
      ]
     },
     "metadata": {},
     "output_type": "display_data"
    }
   ],
   "source": [
    "li840a['H2O(C)'].plot(title=\"H2O (ppth)\") # titles"
   ]
  },
  {
   "cell_type": "code",
   "execution_count": 27,
   "metadata": {
    "collapsed": false
   },
   "outputs": [
    {
     "data": {
      "text/plain": [
       "[<matplotlib.text.Text at 0x9329e80>, <matplotlib.text.Text at 0x92fbeb8>]"
      ]
     },
     "execution_count": 27,
     "metadata": {},
     "output_type": "execute_result"
    },
    {
     "data": {
      "image/png": "[encoded data removed]",
      "text/plain": [
       "<matplotlib.figure.Figure at 0x91fef28>"
      ]
     },
     "metadata": {},
     "output_type": "display_data"
    }
   ],
   "source": [
    "p1 = li840a['H2O(C)'].plot(title='H2O') # save the plot for advanced configuration\n",
    "p1.set(ylabel='ppth', xlabel='Time (PST)') # like axis labels"
   ]
  },
  {
   "cell_type": "code",
   "execution_count": 28,
   "metadata": {
    "collapsed": false
   },
   "outputs": [
    {
     "data": {
      "text/plain": [
       "<matplotlib.axes._subplots.AxesSubplot at 0x9385a58>"
      ]
     },
     "execution_count": 28,
     "metadata": {},
     "output_type": "execute_result"
    },
    {
     "data": {
      "image/png": "[encoded data removed]",
      "text/plain": [
       "<matplotlib.figure.Figure at 0x923ed68>"
      ]
     },
     "metadata": {},
     "output_type": "display_data"
    }
   ],
   "source": [
    "# build new dataframe with relevant columns, then plot\n",
    "pd.DataFrame([rack.TAPI_CO, 1000*co['CONC1-AVG(PPM)']]).T.plot(alpha=0.5) # scale both to PPB"
   ]
  }
 ],
 "metadata": {
  "anaconda-cloud": {},
  "kernelspec": {
   "display_name": "Python [Root]",
   "language": "python",
   "name": "Python [Root]"
  },
  "language_info": {
   "codemirror_mode": {
    "name": "ipython",
    "version": 3
   },
   "file_extension": ".py",
   "mimetype": "text/x-python",
   "name": "python",
   "nbconvert_exporter": "python",
   "pygments_lexer": "ipython3",
   "version": "3.5.2"
  }
 },
 "nbformat": 4,
 "nbformat_minor": 0
}
